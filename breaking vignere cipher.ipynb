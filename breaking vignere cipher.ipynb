{
  "nbformat": 4,
  "nbformat_minor": 0,
  "metadata": {
    "colab": {
      "provenance": []
    },
    "kernelspec": {
      "name": "python3",
      "display_name": "Python 3"
    },
    "language_info": {
      "name": "python"
    }
  },
  "cells": [
    {
      "cell_type": "code",
      "execution_count": null,
      "metadata": {
        "colab": {
          "base_uri": "https://localhost:8080/"
        },
        "id": "oqbM0eVxfwQr",
        "outputId": "808bd7a3-a2d5-4f66-8f0f-e62f7cbb580c"
      },
      "outputs": [
        {
          "output_type": "stream",
          "name": "stdout",
          "text": [
            "key length of string1: 8\n",
            "key length of s1: 10\n",
            "key length of string3: 6\n"
          ]
        }
      ],
      "source": [
        "def generateIC(coset):\n",
        "    cosetIC = 0\n",
        "    for c in coset:\n",
        "        c = c.lower()\n",
        "        count = [0]*26\n",
        "        n = 0\n",
        "        for i in range(0, len(c)):\n",
        "            val = ord(c[i]) - ord('a')\n",
        "            if(val >= 0 and val <= 25):\n",
        "                count[val] = count[val] + 1\n",
        "                n += 1\n",
        "        total = 0.0\n",
        "        for i in range(0, len(count)):\n",
        "            total += count[i] * (count[i]-1)\n",
        "        total = total/(n*(n-1))\n",
        "        cosetIC += total\n",
        "    cosetIC = cosetIC/len(coset)\n",
        "\n",
        "    return cosetIC\n",
        "def crack(cipher):\n",
        "   ic = []\n",
        "\n",
        "   for i in range(1, 11):\n",
        "        substrings = [cipher[j::i] for j in range(i)]\n",
        "        ic_val = generateIC(substrings)\n",
        "        ic.append(ic_val)\n",
        "        maxx = ic.index(max(ic))\n",
        "        key = maxx + 1\n",
        "\n",
        "   return key\n",
        "\n",
        "\n",
        "\n",
        "\n",
        "\n",
        "\n",
        "#test cases from website\n",
        "string1 = \"VVQGYTVVVKALURWFHQACMMVLEHUCATWFHHIPLXHVUWSCIGINCMUHNHQRMSUIMHWZODXTNAEKVVQGYTVVQPHXINWCABASYYMTKSZRCXWRPRFWYHXYGFIPSbWKQAMZYBXJQQABJEMTCHQSNAEKVVQGYTVVPCAPBSLURQUCVMVPQUTMMLVHWDHNFIKJCPXMYEIOCDTXBJWKQGANL\"\n",
        "\n",
        "string2=\"RSTCSJLSLRSLFELGWLFIISIKRMGL \"\n",
        "string3=\"TYWURUSHPOSLJNQAYJLIFTMJYYZFPVEUZTSGAHTUWNSFWEEEVAMYFFDCZTMJWSQEJVWXTUQNANTMTIAWAOOJSHPPINTYDDMVKQUFLGMLBXIXJUBQWXJYQZJZYMMZHDMFNQVIAYEFLVZIZQCSSAEEXVSFRDSDLBQTYDTFQNIVKUZPJFJHUSLKLUBQVJULABXYWCDIEOWHFTMXZMMZHCAATFXYWGMFXYWZUQVPYFAIAFJGEQCVKNATEMWGKXSMWNIUSHPFSRJCEQEEVJXGGBLBQIMEYMRDSDHUUZXVVVGFXVJZXUIJLIRMRKZYYASETYMYWWJIYTMJKFQQTZFAQKIJFIPFSYAGQXZVKUZPHFZCYOSLJNQEMVK\"\n",
        "k=crack(string1)\n",
        "k1=crack(string3)\n",
        "#using provided test cases\n",
        "s0 = \"RSTCSJLSLRSLFELGWLFIISIKRMGL\"\n",
        "s1 = \"OICPWZXZEVLGCLNFSYPGALPXWZJTEGALPCSIIWDHOIECCBFWPAHOPCGALPCCBROASNWTYHOIDBIHVPSCSIDEVLSYPGDLZDSLXSTBNWOTTMICPBAPJEVLCLCSUSEQCUHZQFBPPDOUHESSFLLGSUSCPGWINETVVESSZXLEIZUFZMVYNLBXYZESALPXRPWLRFLIHTHOXSPANPZCWMCZCJPPTQMALPXOISFEHOIZYZFXSTBNCZFQHRYZHKSTDWNRZCSALPXPLGLFGLXSPMJLLYULXSTBNWESSFTFDVALPSITEYCOJIQZFDECOOUHHSWSIDZALQLJGLIESSTEDEVLGCLNFSYPGDIDPSNIYTIZFPNOBWPEVLTPZDSIHSCHVPNFHDJPBVYRSHVXSTBRXSPMJEYNVHRRPHOIHZFSHLCSALPZBLWHSCKS\"\n",
        "s2 = \"VVVXSQWPSNJMUMJOKKLGFQAVEXAHWRVTMFXVVRKAJTVMFLOPHYWJDSTXKAGFVVTPHKYEPPJOKPSWACJVSIGGVOLXLVMQPVCMGOGMFLAKENVRMIUAKTKVHIXCFJZRAHWFHLIUMHCIRFWGFOETIUNEQVJWEHOSJWVQFYWKYMPGQHWISOPKHYFYV\"\n",
        "\n",
        "k2=crack(s1)\n",
        "print(\"key length of string1:\",k)\n",
        "print(\"key length of s1:\",k2)\n",
        "print(\"key length of string3:\",k1)"
      ]
    }
  ]
}